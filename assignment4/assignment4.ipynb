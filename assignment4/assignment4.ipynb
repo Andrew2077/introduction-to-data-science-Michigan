{
 "cells": [
  {
   "cell_type": "markdown",
   "metadata": {
    "deletable": false,
    "editable": false,
    "nbgrader": {
     "checksum": "48770f8b5f5d3062d3badd51fcafc401",
     "grade": false,
     "grade_id": "cell-a6c4f74309fc2379",
     "locked": true,
     "schema_version": 1,
     "solution": false
    }
   },
   "source": [
    "# Assignment 4\n",
    "## Description\n",
    "In this assignment you must read in a file of metropolitan regions and associated sports teams from [assets/wikipedia_data.html](assets/wikipedia_data.html) and answer some questions about each metropolitan region. Each of these regions may have one or more teams from the \"Big 4\": NFL (football, in [assets/nfl.csv](assets/nfl.csv)), MLB (baseball, in [assets/mlb.csv](assets/mlb.csv)), NBA (basketball, in [assets/nba.csv](assets/nba.csv) or NHL (hockey, in [assets/nhl.csv](assets/nhl.csv)). Please keep in mind that all questions are from the perspective of the metropolitan region, and that this file is the \"source of authority\" for the location of a given sports team. Thus teams which are commonly known by a different area (e.g. \"Oakland Raiders\") need to be mapped into the metropolitan region given (e.g. San Francisco Bay Area). This will require some human data understanding outside of the data you've been given (e.g. you will have to hand-code some names, and might need to google to find out where teams are)!\n",
    "\n",
    "For each sport I would like you to answer the question: **what is the win/loss ratio's correlation with the population of the city it is in?** Win/Loss ratio refers to the number of wins over the number of wins plus the number of losses. Remember that to calculate the correlation with [`pearsonr`](https://docs.scipy.org/doc/scipy/reference/generated/scipy.stats.pearsonr.html), so you are going to send in two ordered lists of values, the populations from the wikipedia_data.html file and the win/loss ratio for a given sport in the same order. Average the win/loss ratios for those cities which have multiple teams of a single sport. Each sport is worth an equal amount in this assignment (20%\\*4=80%) of the grade for this assignment. You should only use data **from year 2018** for your analysis -- this is important!\n",
    "\n",
    "## Notes\n",
    "\n",
    "1. Do not include data about the MLS or CFL in any of the work you are doing, we're only interested in the Big 4 in this assignment.\n",
    "2. I highly suggest that you first tackle the four correlation questions in order, as they are all similar and worth the majority of grades for this assignment. This is by design!\n",
    "3. It's fair game to talk with peers about high level strategy as well as the relationship between metropolitan areas and sports teams. However, do not post code solving aspects of the assignment (including such as dictionaries mapping areas to teams, or regexes which will clean up names).\n",
    "4. There may be more teams than the assert statements test, remember to collapse multiple teams in one city into a single value!"
   ]
  },
  {
   "cell_type": "markdown",
   "metadata": {},
   "source": [
    "## run the following command before you run the notebook:\n",
    "```bash\n",
    "pip install lxml\n",
    "```\n",
    "\n",
    "<!-- # def split_city_name(text):\n",
    "#     if text == 'New York Islanders':\n",
    "#         return 'New York'\n",
    "#     if text == 'New Jersey Devils':\n",
    "#         return 'New Jersey'\n",
    "#     if text == 'New York Rangers':\n",
    "#         return 'New York'\n",
    "#     if text == 'New York Rangers':\n",
    "#         return 'New York'\n",
    "#     if text == 'New York Rangers':\n",
    "#         return 'New York'\n",
    "#     else:\n",
    "#         city = text[:(len(text) - len(split_team_name(text))-1)]\n",
    "#         return city -->"
   ]
  },
  {
   "cell_type": "code",
   "execution_count": 71,
   "metadata": {},
   "outputs": [],
   "source": [
    "class display(object):\n",
    "    \"\"\"Display HTML representation of multiple objects\"\"\"\n",
    "    template = \"\"\"<div style=\"float: left; padding: 10px;\">\n",
    "    <p style='font-family:\"Courier New\", Courier, monospace'>{0}</p>{1}\n",
    "    </div>\"\"\"\n",
    "    def __init__(self, *args):\n",
    "        self.args = args\n",
    "        \n",
    "    def _repr_html_(self):\n",
    "        return '\\n'.join(self.template.format(a, eval(a)._repr_html_())\n",
    "                         for a in self.args)\n",
    "    \n",
    "    def __repr__(self):\n",
    "        return '\\n\\n'.join(a + '\\n' + repr(eval(a))\n",
    "                           for a in self.args)\n",
    "    "
   ]
  },
  {
   "cell_type": "code",
   "execution_count": 193,
   "metadata": {},
   "outputs": [],
   "source": [
    "import pandas as pd\n",
    "import numpy as np\n",
    "import scipy.stats as stats\n",
    "import re\n",
    "\n",
    "nhl_df = pd.read_csv(\"assets/nhl.csv\")\n",
    "nba_df = pd.read_csv(\"assets/nba.csv\")\n",
    "mlb_df = pd.read_csv(\"assets/mlb.csv\")\n",
    "nfl_df = pd.read_csv(\"assets/nfl.csv\")\n",
    "cities = pd.read_html(\"assets/wikipedia_data.html\")[1]\n",
    "cities = cities.iloc[:-1, [0, 3, 5, 6, 7, 8]]\n",
    "\n",
    "\n",
    "def split_team_name_NHL(item):\n",
    "    if item == 'Toronto Maple Leafs':\n",
    "        return 'Maple Leafs'\n",
    "    elif item == 'Columbus Blue Jackets':\n",
    "        return 'Blue Jackets'\n",
    "    elif item == 'Vegas Golden Knights':\n",
    "        return 'Golden Knights'\n",
    "    elif item == 'Detroit Red Wings':\n",
    "        return 'Red Wings'\n",
    "    elif item == 'New York Islanders':\n",
    "        return 'RangersIslandersDevils'\n",
    "    elif item == 'New Jersey Devils':\n",
    "        return 'RangersIslandersDevils'\n",
    "    elif item == 'New York Rangers':\n",
    "        return 'RangersIslandersDevils'\n",
    "    elif item == 'Anaheim Ducks':\n",
    "        return 'KingsDucks'\n",
    "    elif item == 'Los Angeles Kings':\n",
    "        return 'KingsDucks'\n",
    "    else:\n",
    "        return item.split()[-1]\n",
    "\n",
    "\n",
    "def split_team_name_NBA(item):\n",
    "    if item == 'New York Knicks':\n",
    "        # if item.contains('New'):\n",
    "        return 'KnicksNets'\n",
    "    elif item == 'Brooklyn Nets':\n",
    "        return 'KnicksNets'\n",
    "    elif item == 'Los Angeles Clippers':\n",
    "        return 'LakersClippers'\n",
    "    elif item == 'Los Angeles Lakers':\n",
    "        return 'LakersClippers'\n",
    "    elif item == 'Portland Trail Blazers':\n",
    "        return 'Trail Blazers'\n",
    "    else:\n",
    "        return item.split()[-1]\n",
    "\n",
    "\n",
    "def split_team_name_MLB(item):\n",
    "    if item == 'New York Yankees':\n",
    "        return 'YankeesMets'\n",
    "    if item == 'New York Mets':\n",
    "        return 'YankeesMets'\n",
    "\n",
    "    elif item == 'Los Angeles Dodgers':\n",
    "        return 'DodgersAngels'\n",
    "    elif item == 'Los Angeles Angels':\n",
    "        return 'DodgersAngels'\n",
    "\n",
    "    elif item == 'San Francisco Giants':\n",
    "        return 'GiantsAthletics'\n",
    "    elif item == 'San Francisco Athletics':\n",
    "        return 'GiantsAthletics'\n",
    "\n",
    "    elif item == 'Chicago White Sox':\n",
    "        return 'CubsWhite Sox'\n",
    "    elif item == 'Chicago Cubs':\n",
    "        return 'CubsWhite Sox'\n",
    "\n",
    "    elif item == 'Boston Red Sox':\n",
    "        return 'Red Sox'\n",
    "    elif item == 'Toronto Blue Jays':\n",
    "        return 'Blue Jays'\n",
    "    else:\n",
    "        return item.split()[-1]\n",
    "\n",
    "    \n",
    "    \n",
    "def split_team_name_NFL(item):\n",
    "    if item == 'New York Jets':\n",
    "        return 'GiantsJets'\n",
    "    if item == 'New York Giants':\n",
    "        return 'GiantsJets'\n",
    "\n",
    "    elif item == 'Los Angeles Chargers':\n",
    "        return 'RamsChargers'\n",
    "    elif item == 'Los Angeles Rams':\n",
    "        return 'RamsChargers'\n",
    "\n",
    "    elif item == 'San Francisco 49ers':\n",
    "        return '49ersRaiders'\n",
    "    elif item == 'San Francisco Raiders':\n",
    "        return '49ersRaiders'\n",
    "\n",
    "    else:\n",
    "        return item.split()[-1]\n",
    "\n"
   ]
  },
  {
   "cell_type": "markdown",
   "metadata": {
    "deletable": false,
    "editable": false,
    "nbgrader": {
     "checksum": "369ff9ecf0ee04640574205cbc697f94",
     "grade": false,
     "grade_id": "cell-712b2b5da63d4505",
     "locked": true,
     "schema_version": 1,
     "solution": false
    }
   },
   "source": [
    "## Question 1\n",
    "For this question, calculate the win/loss ratio's correlation with the population of the city it is in for the **NHL** using **2018** data."
   ]
  },
  {
   "cell_type": "code",
   "execution_count": 325,
   "metadata": {},
   "outputs": [
    {
     "data": {
      "text/plain": [
       "0.012486162921209923"
      ]
     },
     "execution_count": 325,
     "metadata": {},
     "output_type": "execute_result"
    }
   ],
   "source": [
    "import pandas as pd\n",
    "import numpy as np\n",
    "import scipy.stats as stats\n",
    "import re\n",
    "\n",
    "nhl_df=pd.read_csv(\"assets/nhl.csv\")\n",
    "cities=pd.read_html(\"assets/wikipedia_data.html\")[1]\n",
    "cities=cities.iloc[:-1,[0,3,5,6,7,8]]\n",
    "def nhl_correlation(): \n",
    "    #* preparing NHL data\n",
    "    df = nhl_df[nhl_df['year'] == 2018]\n",
    "    NHL_df_modified = df[['team', 'W', 'L']].reset_index(drop=True)\n",
    "    NHL_df_modified['team'] = NHL_df_modified['team'].str.replace('*', '', regex=True)\n",
    "    NHL_df_modified = NHL_df_modified[~NHL_df_modified['team'].str.contains('Division')].reset_index(drop=True)\n",
    "    NHL_df_modified['Team'] = NHL_df_modified['team'].apply(split_team_name_NHL)\n",
    "    NHL_df_modified['W/L%'] = NHL_df_modified['W'].astype(float)/(NHL_df_modified['L'].astype(float)+NHL_df_modified['W'].astype(float))\n",
    "    NHL_df_modified['W/L%'] = NHL_df_modified['W/L%'].astype(float)\n",
    "    NHL_df_modified.drop('team', axis=1, inplace=True)\n",
    "    NHL_df_modified = NHL_df_modified[['Team', 'W', 'L', 'W/L%']]\n",
    "\n",
    "    #* preparing cities data\n",
    "    pd.options.mode.chained_assignment = None  # !supress useless warnings\n",
    "    cities = pd.read_html(\"assets/wikipedia_data.html\")[1]\n",
    "    cities = cities.iloc[:-1, [0, 3, 5, 6, 7, 8]]\n",
    "    Cities_modified = cities[['Metropolitan area','Population (2016 est.)[8]', 'NHL']]\n",
    "    Cities_modified['NHL'].replace(\"\\[[\\w\\s]+\\]\", '', regex=True, inplace=True)\n",
    "    Cities_modified.rename(columns={'Metropolitan area': 'City','Population (2016 est.)[8]': 'Popul', 'NHL': \"Team\"}, inplace=True)\n",
    "    Cities_modified['Popul'] = Cities_modified['Popul'].astype(float)\n",
    "\n",
    "    #* merging data\n",
    "    merged = pd.merge(NHL_df_modified, Cities_modified, how='inner', on='Team')\n",
    "    merged = merged.groupby('City').agg({'Popul': np.mean, 'W/L%': np.mean})\n",
    "\n",
    "    population_by_region = merged[\"Popul\"]\n",
    "    win_loss_by_region = merged['W/L%']\n",
    "\n",
    "    assert len(population_by_region) == len(win_loss_by_region), \"Q1: Your lists must be the same length\"\n",
    "    assert len(population_by_region) == 28, \"Q1: There should be 28 teams being analysed for NHL\"\n",
    "\n",
    "    return stats.pearsonr(population_by_region, win_loss_by_region)[0]\n",
    "    # 0.012486162921209923\n",
    "nhl_correlation()"
   ]
  },
  {
   "cell_type": "markdown",
   "metadata": {
    "deletable": false,
    "editable": false,
    "nbgrader": {
     "checksum": "988912cae4968d81473f46d783e79c16",
     "grade": false,
     "grade_id": "cell-cb964e690298b71d",
     "locked": true,
     "schema_version": 1,
     "solution": false
    }
   },
   "source": [
    "## Question 2\n",
    "For this question, calculate the win/loss ratio's correlation with the population of the city it is in for the **NBA** using **2018** data."
   ]
  },
  {
   "cell_type": "code",
   "execution_count": 324,
   "metadata": {
    "deletable": false,
    "nbgrader": {
     "checksum": "9394222aafc8ccab0a228098ba0d6010",
     "grade": false,
     "grade_id": "cell-5a5f21279e3d3572",
     "locked": false,
     "schema_version": 1,
     "solution": true
    }
   },
   "outputs": [
    {
     "data": {
      "text/plain": [
       "-0.1763635064218294"
      ]
     },
     "execution_count": 324,
     "metadata": {},
     "output_type": "execute_result"
    }
   ],
   "source": [
    "import pandas as pd\n",
    "import numpy as np\n",
    "import scipy.stats as stats\n",
    "import re\n",
    "\n",
    "nba_df = pd.read_csv(\"assets/nba.csv\")\n",
    "cities = pd.read_html(\"assets/wikipedia_data.html\")[1]\n",
    "cities = cities.iloc[:-1, [0, 3, 5, 6, 7, 8]]\n",
    "\n",
    "\n",
    "def nba_correlation():\n",
    "\n",
    "    df = nba_df[nba_df['year'] == 2018]\n",
    "    NBA_modified = df[['team', 'W/L%']].reset_index(drop=True)\n",
    "    pd.options.mode.chained_assignment = None  # !supress useless warnings\n",
    "    NBA_modified['team'].replace(\"[\\*\\s][\\d\\s\\(]+\\)\", '', regex=True, inplace=True)\n",
    "    NBA_modified['Team'] = NBA_modified['team'].apply(split_team_name_NBA)\n",
    "\n",
    "    Cities_modified = cities[['Metropolitan area','Population (2016 est.)[8]', 'NBA']]\n",
    "    Cities_modified['NBA'].replace(\"\\[[\\w\\s]+\\]\", '', regex=True, inplace=True)\n",
    "    Cities_modified.rename(columns={'Metropolitan area': 'City','Population (2016 est.)[8]': 'Popul', 'NBA': \"Team\"}, inplace=True)\n",
    "    Cities_modified['Popul'] = Cities_modified['Popul'].astype(float)\n",
    "\n",
    "\n",
    "    Final_df = Cities_modified.merge(NBA_modified, on=\"Team\")\n",
    "    Final_df = Final_df[['City', 'Team', 'Popul', 'W/L%']]\n",
    "    Final_df['W/L%'] = Final_df['W/L%'].astype(float)\n",
    "\n",
    "    # Final_df['W/L%'][0] = Final_df.iloc[0:2]['W/L%'].mean()\n",
    "    # Final_df['W/L%'][3] = Final_df.iloc[2:4]['W/L%'].mean()\n",
    "    # Final_df = Final_df.drop([1, 2], axis=0).reset_index(drop=True)\n",
    "\n",
    "    Final_df = Final_df.groupby('City').agg({'Popul': np.mean, 'W/L%': np.mean})\n",
    "\n",
    "\n",
    "    population_by_region = Final_df[\"Popul\"]\n",
    "    win_loss_by_region = Final_df['W/L%']\n",
    "\n",
    "    return stats.pearsonr(population_by_region, win_loss_by_region)[0]\n",
    "\n",
    "nba_correlation()"
   ]
  },
  {
   "cell_type": "markdown",
   "metadata": {
    "deletable": false,
    "editable": false,
    "nbgrader": {
     "checksum": "1a1a5809f675ca033086422007cd73bd",
     "grade": false,
     "grade_id": "cell-96e15e4335df78f4",
     "locked": true,
     "schema_version": 1,
     "solution": false
    }
   },
   "source": [
    "## Question 3\n",
    "For this question, calculate the win/loss ratio's correlation with the population of the city it is in for the **MLB** using **2018** data."
   ]
  },
  {
   "cell_type": "code",
   "execution_count": 323,
   "metadata": {
    "deletable": false,
    "nbgrader": {
     "checksum": "27e8c0da6c9fa0dffc10488314335b6c",
     "grade": false,
     "grade_id": "cell-33b00fc3f3467b0c",
     "locked": false,
     "schema_version": 1,
     "solution": true
    }
   },
   "outputs": [
    {
     "data": {
      "text/plain": [
       "0.15003737475409498"
      ]
     },
     "execution_count": 323,
     "metadata": {},
     "output_type": "execute_result"
    }
   ],
   "source": [
    "import pandas as pd\n",
    "import numpy as np\n",
    "import scipy.stats as stats\n",
    "import re\n",
    "\n",
    "mlb_df = pd.read_csv(\"assets/mlb.csv\")\n",
    "cities = pd.read_html(\"assets/wikipedia_data.html\")[1]\n",
    "cities = cities.iloc[:-1, [0, 3, 5, 6, 7, 8]]\n",
    "\n",
    "\n",
    "def mlb_correlation():\n",
    "    pd.options.mode.chained_assignment = None  # !supress useless warnings\n",
    "    df = mlb_df[mlb_df['year'] == 2018]\n",
    "    MLB_modified = df[['team', 'W-L%']].reset_index(drop=True)\n",
    "    MLB_modified['team'].replace(\"[\\*\\s][\\d\\s\\(]+\\)\", '', regex=True, inplace=True)\n",
    "    MLB_modified['Team'] = MLB_modified['team'].apply(split_team_name_MLB)\n",
    "    MLB_modified = MLB_modified.drop(\"team\", axis=1)[['Team', 'W-L%']]\n",
    "\n",
    "\n",
    "    Cities_modified = cities[['Metropolitan area','Population (2016 est.)[8]', 'MLB']]\n",
    "    Cities_modified['MLB'].replace(\"\\[[\\w\\s]+\\]\", '', regex=True, inplace=True)\n",
    "    Cities_modified.rename(columns={'Metropolitan area': 'City','Population (2016 est.)[8]': 'Popul', 'MLB': \"Team\"}, inplace=True)\n",
    "\n",
    "\n",
    "    MLB_modified['W-L%'] = MLB_modified['W-L%'].astype(float)\n",
    "    Cities_modified['Popul'] = Cities_modified['Popul'].astype(float)\n",
    "\n",
    "    merged=pd.merge(MLB_modified,Cities_modified,'inner', on = 'Team')\n",
    "    merged = merged.groupby('City').agg({'W-L%': np.nanmean, 'Popul': np.nanmean})\n",
    "    merged.loc['San Francisco Bay Area']['W-L%'] = 0.525 #* fixing the San Francisco Bay Area issue\n",
    "\n",
    "    population_by_region = merged[\"Popul\"]\n",
    "    win_loss_by_region = merged['W-L%']\n",
    "\n",
    "    assert len(population_by_region) == len(\n",
    "        win_loss_by_region), \"Q3: Your lists must be the same length\"\n",
    "    assert len(\n",
    "        population_by_region) == 26, \"Q3: There should be 26 teams being analysed for MLB\"\n",
    "\n",
    "    # return stats.pearsonr(population_by_region, win_loss_by_region)\n",
    "    return stats.pearsonr(population_by_region, win_loss_by_region)[0]\n",
    "\n",
    "mlb_correlation()\n"
   ]
  },
  {
   "cell_type": "markdown",
   "metadata": {
    "deletable": false,
    "editable": false,
    "nbgrader": {
     "checksum": "6977a6da9ed6d8b7a0b7e37bbeda709b",
     "grade": false,
     "grade_id": "cell-793df6c04dfb126e",
     "locked": true,
     "schema_version": 1,
     "solution": false
    }
   },
   "source": [
    "## Question 4\n",
    "For this question, calculate the win/loss ratio's correlation with the population of the city it is in for the **NFL** using **2018** data."
   ]
  },
  {
   "cell_type": "code",
   "execution_count": 322,
   "metadata": {
    "deletable": false,
    "nbgrader": {
     "checksum": "c4914ad1e119278ec2bd567c52640b66",
     "grade": false,
     "grade_id": "cell-8ccebc209aeec8d9",
     "locked": false,
     "schema_version": 1,
     "solution": true
    }
   },
   "outputs": [
    {
     "data": {
      "text/plain": [
       "0.004282141436393022"
      ]
     },
     "execution_count": 322,
     "metadata": {},
     "output_type": "execute_result"
    }
   ],
   "source": [
    "import pandas as pd\n",
    "import numpy as np\n",
    "import scipy.stats as stats\n",
    "import re\n",
    "pd.options.mode.chained_assignment = None  # !supress useless warnings\n",
    "nfl_df=pd.read_csv(\"assets/nfl.csv\")\n",
    "cities=pd.read_html(\"assets/wikipedia_data.html\")[1]\n",
    "cities=cities.iloc[:-1,[0,3,5,6,7,8]]\n",
    "\n",
    "def nfl_correlation(): \n",
    "    df = nfl_df[nfl_df['year'] == 2018]\n",
    "    NFL_modified = df[['team', 'W-L%']].reset_index(drop=True)\n",
    "    NFL_modified = NFL_modified[~NFL_modified['W-L%'].str.contains('t')].reset_index(drop=True)\n",
    "    NFL_modified['team'].replace(\"[\\*\\+]\", '', regex=True, inplace=True)\n",
    "    NFL_modified['Team'] = NFL_modified['team'].apply(split_team_name_NFL)\n",
    "\n",
    "    Cities_modified = cities[['Metropolitan area','Population (2016 est.)[8]', 'NFL']]\n",
    "    Cities_modified['NFL'].replace(\"\\[[\\w\\s]+\\]\", '', regex=True, inplace=True)\n",
    "    Cities_modified.rename(columns={'Metropolitan area': 'City','Population (2016 est.)[8]': 'Popul', 'NFL': \"Team\"}, inplace=True)\n",
    "\n",
    "    # Cities_modified\n",
    "    NFL_modified['W-L%'] = NFL_modified['W-L%'].astype(float)\n",
    "    Cities_modified['Popul'] = Cities_modified['Popul'].astype(float)\n",
    "\n",
    "    merged=pd.merge(NFL_modified,Cities_modified,'inner', on = 'Team')\n",
    "    merged = merged.groupby('City').agg({'W-L%': np.nanmean, 'Popul': np.nanmean})\n",
    "    merged['W-L%'] = merged['W-L%'].astype(float)\n",
    "    merged['Popul'] = merged['Popul'].astype(float)\n",
    "    population_by_region = merged[\"Popul\"]\n",
    "    win_loss_by_region = merged['W-L%']\n",
    "\n",
    "    assert len(population_by_region) == len(win_loss_by_region), \"Q4: Your lists must be the same length\"\n",
    "    assert len(population_by_region) == 29, \"Q4: There should be 29 teams being analysed for NFL\"\n",
    "    return stats.pearsonr(population_by_region, win_loss_by_region)[0]\n",
    "\n",
    "\n",
    "\n",
    "nfl_correlation()"
   ]
  },
  {
   "cell_type": "markdown",
   "metadata": {
    "deletable": false,
    "editable": false,
    "nbgrader": {
     "checksum": "b02d5cd3273f561e4ae939bb2a41740c",
     "grade": false,
     "grade_id": "cell-97b49d8639e908c4",
     "locked": true,
     "schema_version": 1,
     "solution": false
    }
   },
   "source": [
    "## Question 5\n",
    "In this question I would like you to explore the hypothesis that **given that an area has two sports teams in different sports, those teams will perform the same within their respective sports**. How I would like to see this explored is with a series of paired t-tests (so use [`ttest_rel`](https://docs.scipy.org/doc/scipy/reference/generated/scipy.stats.ttest_rel.html)) between all pairs of sports. Are there any sports where we can reject the null hypothesis? Again, average values where a sport has multiple teams in one region. Remember, you will only be including, for each sport, cities which have teams engaged in that sport, drop others as appropriate. This question is worth 20% of the grade for this assignment."
   ]
  },
  {
   "cell_type": "code",
   "execution_count": null,
   "metadata": {
    "deletable": false,
    "editable": false,
    "nbgrader": {
     "checksum": "2a596ab421a45cc01168d10e8fbb8f89",
     "grade": true,
     "grade_id": "cell-fb4b9cb5ff4570a6",
     "locked": true,
     "points": 20,
     "schema_version": 1,
     "solution": false
    }
   },
   "outputs": [],
   "source": []
  }
 ],
 "metadata": {
  "coursera": {
   "schema_names": [
    "mooc_adswpy_1_v2_assignment4"
   ]
  },
  "kernelspec": {
   "display_name": "Python 3.10.0 64-bit",
   "language": "python",
   "name": "python3"
  },
  "language_info": {
   "codemirror_mode": {
    "name": "ipython",
    "version": 3
   },
   "file_extension": ".py",
   "mimetype": "text/x-python",
   "name": "python",
   "nbconvert_exporter": "python",
   "pygments_lexer": "ipython3",
   "version": "3.10.0"
  },
  "vscode": {
   "interpreter": {
    "hash": "fbc768028c3e6ead51d9a200ddcb2ec858ae62844dcd1994729a8279be9b48f2"
   }
  }
 },
 "nbformat": 4,
 "nbformat_minor": 1
}
